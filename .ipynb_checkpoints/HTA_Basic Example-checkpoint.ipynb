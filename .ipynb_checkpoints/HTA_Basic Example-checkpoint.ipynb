{
 "cells": [
  {
   "cell_type": "code",
   "execution_count": 2,
   "metadata": {},
   "outputs": [],
   "source": [
    "import pandas as pd\n",
    "import json\n",
    "import os\n",
    "import geopandas as gpd\n",
    "import folium\n",
    "import matplotlib.pyplot as plt\n",
    "import numpy as np\n",
    "from folium.plugins import TimeSliderChoropleth\n",
    "from branca.colormap import linear\n",
    "import HTA_helpers as h"
   ]
  },
  {
   "cell_type": "code",
   "execution_count": 2,
   "metadata": {},
   "outputs": [],
   "source": [
    "#make options to load data from repository or website"
   ]
  },
  {
   "cell_type": "code",
   "execution_count": 11,
   "metadata": {},
   "outputs": [
    {
     "data": {
      "text/html": [
       "<div>\n",
       "<style scoped>\n",
       "    .dataframe tbody tr th:only-of-type {\n",
       "        vertical-align: middle;\n",
       "    }\n",
       "\n",
       "    .dataframe tbody tr th {\n",
       "        vertical-align: top;\n",
       "    }\n",
       "\n",
       "    .dataframe thead th {\n",
       "        text-align: right;\n",
       "    }\n",
       "</style>\n",
       "<table border=\"1\" class=\"dataframe\">\n",
       "  <thead>\n",
       "    <tr style=\"text-align: right;\">\n",
       "      <th></th>\n",
       "      <th>OBJECTID</th>\n",
       "      <th>NAME</th>\n",
       "      <th>Shape__Area</th>\n",
       "      <th>Shape__Length</th>\n",
       "      <th>geometry</th>\n",
       "    </tr>\n",
       "  </thead>\n",
       "  <tbody>\n",
       "    <tr>\n",
       "      <th>0</th>\n",
       "      <td>1</td>\n",
       "      <td>0102</td>\n",
       "      <td>0.000348</td>\n",
       "      <td>0.153037</td>\n",
       "      <td>MULTIPOLYGON (((-71.34122 41.73016, -71.34123 ...</td>\n",
       "    </tr>\n",
       "    <tr>\n",
       "      <th>1</th>\n",
       "      <td>2</td>\n",
       "      <td>0101</td>\n",
       "      <td>0.000426</td>\n",
       "      <td>0.107569</td>\n",
       "      <td>POLYGON ((-71.32270 41.77270, -71.32270 41.772...</td>\n",
       "    </tr>\n",
       "    <tr>\n",
       "      <th>2</th>\n",
       "      <td>3</td>\n",
       "      <td>0104</td>\n",
       "      <td>0.000509</td>\n",
       "      <td>0.338228</td>\n",
       "      <td>MULTIPOLYGON (((-71.30425 41.74515, -71.30415 ...</td>\n",
       "    </tr>\n",
       "    <tr>\n",
       "      <th>3</th>\n",
       "      <td>4</td>\n",
       "      <td>0105</td>\n",
       "      <td>0.000520</td>\n",
       "      <td>0.297727</td>\n",
       "      <td>MULTIPOLYGON (((-71.29308 41.71355, -71.29309 ...</td>\n",
       "    </tr>\n",
       "    <tr>\n",
       "      <th>4</th>\n",
       "      <td>5</td>\n",
       "      <td>0103</td>\n",
       "      <td>0.000584</td>\n",
       "      <td>0.158078</td>\n",
       "      <td>POLYGON ((-71.31979 41.73751, -71.32057 41.737...</td>\n",
       "    </tr>\n",
       "  </tbody>\n",
       "</table>\n",
       "</div>"
      ],
      "text/plain": [
       "   OBJECTID  NAME  Shape__Area  Shape__Length  \\\n",
       "0         1  0102     0.000348       0.153037   \n",
       "1         2  0101     0.000426       0.107569   \n",
       "2         3  0104     0.000509       0.338228   \n",
       "3         4  0105     0.000520       0.297727   \n",
       "4         5  0103     0.000584       0.158078   \n",
       "\n",
       "                                            geometry  \n",
       "0  MULTIPOLYGON (((-71.34122 41.73016, -71.34123 ...  \n",
       "1  POLYGON ((-71.32270 41.77270, -71.32270 41.772...  \n",
       "2  MULTIPOLYGON (((-71.30425 41.74515, -71.30415 ...  \n",
       "3  MULTIPOLYGON (((-71.29308 41.71355, -71.29309 ...  \n",
       "4  POLYGON ((-71.31979 41.73751, -71.32057 41.737...  "
      ]
     },
     "execution_count": 11,
     "metadata": {},
     "output_type": "execute_result"
    }
   ],
   "source": [
    "#state_geo = 'https://opendata.arcgis.com/datasets/d12408938f6d42a4b02256087290cc4f_0.geojson'\n",
    "state_geo = './data/test_gdf.geojson'\n",
    "\n",
    "#imports and displays preview of geodata file\n",
    "gdf = gpd.read_file(state_geo)\n",
    "\n",
    "gdf.head()\n",
    "\n",
    "\n",
    "#Notes\n",
    "#JH - both online and local versions of the file correctly\n",
    "#JH - everything with gdf2 and gdf3 from the v0 example wont be used\n",
    "#JH - will need to update the PN_lookup_dict to gdf instead of gdf3\n",
    "#JH - I dont think I ever actually used the geo_look_up_dict but will leave in the for now \n"
   ]
  },
  {
   "cell_type": "code",
   "execution_count": 5,
   "metadata": {},
   "outputs": [],
   "source": [
    "\n"
   ]
  },
  {
   "cell_type": "code",
   "execution_count": 12,
   "metadata": {},
   "outputs": [],
   "source": [
    "#make options to used aggregated or hourly time intervals\n",
    "#notes\n",
    "time_0 = '2018-11-06 07:00:00' #start\n",
    "time_1a = '2018-11-06 10:00:00' #10am\n",
    "time_2a = '2018-11-06 12:00:00' #12am\n",
    "time_3 = '2018-11-06 14:00:00' #2pm\n",
    "time_4 = '2018-11-06 16:00:00' #4pm\n",
    "time_5 = '2018-11-06 18:00:00' #6pm\n",
    "time_6 = '2018-11-06 21:00:00' #9pm\n",
    "\n",
    "time_intervals_a = list([time_0,time_1a,time_2a,time_3,time_4,time_5,time_6])\n",
    "times = pd.to_datetime(['2018-11-06 07:00:00','2018-11-06 10:00:00','2018-11-06 12:00:00','2018-11-06 14:00:00','2018-11-06 16:00:00','2018-11-06 18:00:00']) \n",
    "times = pd.to_numeric(times)/1e9\n",
    "times = np.asarray(times.astype('U10'))\n",
    "\n"
   ]
  },
  {
   "cell_type": "code",
   "execution_count": null,
   "metadata": {},
   "outputs": [],
   "source": []
  },
  {
   "cell_type": "code",
   "execution_count": null,
   "metadata": {},
   "outputs": [],
   "source": [
    "#make options to used aggregated data or hourly data\n",
    "\n",
    "#notes\n",
    "#JH - use path to static data files in './data/_filename\n",
    "#JH - static files should be in the same format as Customizable example\n",
    "#JH - could run check to show number of time intervals match number of rows in input data\n",
    "#JH - this will become relevant later in the Customizable Example\n",
    "\n",
    "#path = './data/_filename\n",
    "prov_df = pd.read_csv(path)\n",
    "#prov_df.head()  \n",
    "\n",
    "#goal is to have input data in form as close as possible to the \"style_df\" part of the v0 notebook example\n"
   ]
  },
  {
   "cell_type": "code",
   "execution_count": null,
   "metadata": {},
   "outputs": [],
   "source": []
  },
  {
   "cell_type": "code",
   "execution_count": null,
   "metadata": {},
   "outputs": [],
   "source": [
    "\n"
   ]
  },
  {
   "cell_type": "code",
   "execution_count": 5,
   "metadata": {},
   "outputs": [],
   "source": [
    "#time intervals"
   ]
  },
  {
   "cell_type": "code",
   "execution_count": 6,
   "metadata": {},
   "outputs": [],
   "source": [
    "#I have an idea for implementing this using wrapper function using something along these lines:\n",
    "#https://amaral.northwestern.edu/blog/function-wrapper-and-python-decorator\n",
    "#if I do this it will be in HTA_helpers.py\n",
    "\n",
    "#the times variable "
   ]
  },
  {
   "cell_type": "code",
   "execution_count": null,
   "metadata": {},
   "outputs": [],
   "source": []
  },
  {
   "cell_type": "code",
   "execution_count": 8,
   "metadata": {},
   "outputs": [],
   "source": [
    "#define map input data set"
   ]
  },
  {
   "cell_type": "code",
   "execution_count": null,
   "metadata": {},
   "outputs": [],
   "source": []
  },
  {
   "cell_type": "code",
   "execution_count": 9,
   "metadata": {},
   "outputs": [],
   "source": [
    "#merge datasets"
   ]
  },
  {
   "cell_type": "code",
   "execution_count": null,
   "metadata": {},
   "outputs": [],
   "source": []
  },
  {
   "cell_type": "code",
   "execution_count": 10,
   "metadata": {},
   "outputs": [],
   "source": [
    "#chose colormap"
   ]
  },
  {
   "cell_type": "code",
   "execution_count": null,
   "metadata": {},
   "outputs": [],
   "source": []
  },
  {
   "cell_type": "code",
   "execution_count": 11,
   "metadata": {},
   "outputs": [],
   "source": [
    "#apply color map to populate styledict dictionary   "
   ]
  },
  {
   "cell_type": "code",
   "execution_count": null,
   "metadata": {},
   "outputs": [],
   "source": []
  },
  {
   "cell_type": "code",
   "execution_count": 12,
   "metadata": {},
   "outputs": [],
   "source": [
    "#create map and display"
   ]
  },
  {
   "cell_type": "code",
   "execution_count": null,
   "metadata": {},
   "outputs": [],
   "source": [
    "#something describing about how you can \n",
    "    #-loop back to previous steps to adjust geo-data, colormap, and time-binning\n",
    "    #-quit and return to step 0 (we'll assume the Task starts and ends at homescreen after launching the binder)\n",
    "    #-save and quit\n",
    "    #-'save as' to keep current version loop back and adjust a new map object"
   ]
  }
 ],
 "metadata": {
  "kernelspec": {
   "display_name": "Python 3",
   "language": "python",
   "name": "python3"
  },
  "language_info": {
   "codemirror_mode": {
    "name": "ipython",
    "version": 3
   },
   "file_extension": ".py",
   "mimetype": "text/x-python",
   "name": "python",
   "nbconvert_exporter": "python",
   "pygments_lexer": "ipython3",
   "version": "3.7.4"
  }
 },
 "nbformat": 4,
 "nbformat_minor": 2
}
