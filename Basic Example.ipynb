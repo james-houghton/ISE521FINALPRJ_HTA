{
 "cells": [
  {
   "cell_type": "markdown",
   "metadata": {},
   "source": [
    "# Basic Example \n",
    "\n",
    "    This program is meant to guide you through the proccess of making a Choropleth Map with the folium python package. In order for the program to work correctly, step through each cell in sequential order by pressing shift-enter. Shift-enter executes the cell and its code. Press shift-enter to tab through header cells that contain words/instructions for the following cell. Each code cell is labeled with \"In[]:\". After the cell is run, \"Out[]:\" will display below with the output of the previous cell if any, and automatically tabs to the next cell. The number inside the bracket represents the order in which the cell was executed. When you shift-enter on a text cell, like this one, nothing will happen. The following cell starts our program. "
   ]
  },
  {
   "cell_type": "markdown",
   "metadata": {},
   "source": [
    "### 1. Import all the packages necessary to run this program by pressing shift-enter on the packages class"
   ]
  },
  {
   "cell_type": "code",
   "execution_count": 13,
   "metadata": {},
   "outputs": [],
   "source": [
    "class packages:\n",
    "    \"\"\"all the packages necessary\"\"\"\n",
    "import pandas as pd\n",
    "import json\n",
    "import os\n",
    "import geopandas as gpd\n",
    "import folium\n",
    "import matplotlib.pyplot as plt\n",
    "import numpy as np\n",
    "from folium.plugins import TimeSliderChoropleth\n",
    "from branca.colormap import linear\n",
    "from random import choices\n",
    "import HTA_helpers as h"
   ]
  },
  {
   "cell_type": "markdown",
   "metadata": {},
   "source": [
    "### 2. Set \"state_geo\" variable using one of the two options in the cell below in geodata class\n",
    "\n",
    "Choose an option by deleting the hashtag before \"state_geo\" and press shift-enter\n",
    "\n",
    "Data options:\n",
    "-  Use data stored in this repository  \n",
    "-  Use data from the internet.  "
   ]
  },
  {
   "cell_type": "code",
   "execution_count": 14,
   "metadata": {},
   "outputs": [],
   "source": [
    "class geodata():\n",
    "    global state_geo\n",
    "    \n",
    "    state_geo = \"./data/test_gdf.geojson\"\n",
    "    #state_geo=('https://opendata.arcgis.com/datasets/d12408938f6d42a4b02256087290cc4f_0.geojson')\n",
    "    "
   ]
  },
  {
   "cell_type": "markdown",
   "metadata": {},
   "source": [
    "### Display preview of geodata stored in \"state_geo\" by pressing shift-enter to run displays class"
   ]
  },
  {
   "cell_type": "code",
   "execution_count": 15,
   "metadata": {},
   "outputs": [
    {
     "data": {
      "text/html": [
       "<div>\n",
       "<style scoped>\n",
       "    .dataframe tbody tr th:only-of-type {\n",
       "        vertical-align: middle;\n",
       "    }\n",
       "\n",
       "    .dataframe tbody tr th {\n",
       "        vertical-align: top;\n",
       "    }\n",
       "\n",
       "    .dataframe thead th {\n",
       "        text-align: right;\n",
       "    }\n",
       "</style>\n",
       "<table border=\"1\" class=\"dataframe\">\n",
       "  <thead>\n",
       "    <tr style=\"text-align: right;\">\n",
       "      <th></th>\n",
       "      <th>OBJECTID</th>\n",
       "      <th>NAME</th>\n",
       "      <th>Shape__Area</th>\n",
       "      <th>Shape__Length</th>\n",
       "      <th>geometry</th>\n",
       "    </tr>\n",
       "  </thead>\n",
       "  <tbody>\n",
       "    <tr>\n",
       "      <th>0</th>\n",
       "      <td>1</td>\n",
       "      <td>0102</td>\n",
       "      <td>0.000348</td>\n",
       "      <td>0.153037</td>\n",
       "      <td>MULTIPOLYGON (((-71.34122 41.73016, -71.34123 ...</td>\n",
       "    </tr>\n",
       "    <tr>\n",
       "      <th>1</th>\n",
       "      <td>2</td>\n",
       "      <td>0101</td>\n",
       "      <td>0.000426</td>\n",
       "      <td>0.107569</td>\n",
       "      <td>POLYGON ((-71.32270 41.77270, -71.32270 41.772...</td>\n",
       "    </tr>\n",
       "    <tr>\n",
       "      <th>2</th>\n",
       "      <td>3</td>\n",
       "      <td>0104</td>\n",
       "      <td>0.000509</td>\n",
       "      <td>0.338228</td>\n",
       "      <td>MULTIPOLYGON (((-71.30425 41.74515, -71.30415 ...</td>\n",
       "    </tr>\n",
       "    <tr>\n",
       "      <th>3</th>\n",
       "      <td>4</td>\n",
       "      <td>0105</td>\n",
       "      <td>0.000520</td>\n",
       "      <td>0.297727</td>\n",
       "      <td>MULTIPOLYGON (((-71.29308 41.71355, -71.29309 ...</td>\n",
       "    </tr>\n",
       "    <tr>\n",
       "      <th>4</th>\n",
       "      <td>5</td>\n",
       "      <td>0103</td>\n",
       "      <td>0.000584</td>\n",
       "      <td>0.158078</td>\n",
       "      <td>POLYGON ((-71.31979 41.73751, -71.32057 41.737...</td>\n",
       "    </tr>\n",
       "  </tbody>\n",
       "</table>\n",
       "</div>"
      ],
      "text/plain": [
       "   OBJECTID  NAME  Shape__Area  Shape__Length  \\\n",
       "0         1  0102     0.000348       0.153037   \n",
       "1         2  0101     0.000426       0.107569   \n",
       "2         3  0104     0.000509       0.338228   \n",
       "3         4  0105     0.000520       0.297727   \n",
       "4         5  0103     0.000584       0.158078   \n",
       "\n",
       "                                            geometry  \n",
       "0  MULTIPOLYGON (((-71.34122 41.73016, -71.34123 ...  \n",
       "1  POLYGON ((-71.32270 41.77270, -71.32270 41.772...  \n",
       "2  MULTIPOLYGON (((-71.30425 41.74515, -71.30415 ...  \n",
       "3  MULTIPOLYGON (((-71.29308 41.71355, -71.29309 ...  \n",
       "4  POLYGON ((-71.31979 41.73751, -71.32057 41.737...  "
      ]
     },
     "execution_count": 15,
     "metadata": {},
     "output_type": "execute_result"
    }
   ],
   "source": [
    "class display: \n",
    "    global gdf\n",
    "    gdf = gpd.read_file(state_geo)\n",
    "    #gdf.head() #can't get this to work james try to run it on your laptop \n",
    "    #print(gdf)\n",
    "    \n",
    "gdf.head()"
   ]
  },
  {
   "cell_type": "markdown",
   "metadata": {},
   "source": [
    "### 3. Set time interval for the choropleth map using time class by pressing shift-enter"
   ]
  },
  {
   "cell_type": "code",
   "execution_count": 16,
   "metadata": {},
   "outputs": [
    {
     "name": "stdout",
     "output_type": "stream",
     "text": [
      "['2018-11-06 07:00:00', '2018-11-06 10:00:00', '2018-11-06 12:00:00', '2018-11-06 14:00:00', '2018-11-06 16:00:00', '2018-11-06 18:00:00', '2018-11-06 21:00:00']\n",
      "\n",
      "DatetimeIndex(['2018-11-06 07:00:00', '2018-11-06 10:00:00',\n",
      "               '2018-11-06 12:00:00', '2018-11-06 14:00:00',\n",
      "               '2018-11-06 16:00:00', '2018-11-06 18:00:00'],\n",
      "              dtype='datetime64[ns]', freq=None)\n",
      "\n",
      "['1541487600' '1541498400' '1541505600' '1541512800' '1541520000'\n",
      " '1541527200']\n"
     ]
    }
   ],
   "source": [
    "class time: \n",
    "    global times\n",
    "    \n",
    "    #times = h.gen_times_list(bin_type=bin_type)\n",
    "    \n",
    "    time_0 = '2018-11-06 07:00:00' #start\n",
    "    time_1a = '2018-11-06 10:00:00' #10am\n",
    "    time_2a = '2018-11-06 12:00:00' #12am\n",
    "    time_3 = '2018-11-06 14:00:00' #2pm\n",
    "    time_4 = '2018-11-06 16:00:00' #4pm\n",
    "    time_5 = '2018-11-06 18:00:00' #6pm\n",
    "    time_6 = '2018-11-06 21:00:00' #9pm\n",
    "    times = list([time_0,time_1a,time_2a,time_3,time_4,time_5,time_6])\n",
    "print(times)\n",
    "times = pd.to_datetime(['2018-11-06 07:00:00','2018-11-06 10:00:00','2018-11-06 12:00:00','2018-11-06 14:00:00','2018-11-06 16:00:00','2018-11-06 18:00:00']) \n",
    "print()\n",
    "print(times)\n",
    "times = pd.to_numeric(times)/1e9\n",
    "times = np.asarray(times.astype('U10'))\n",
    "print()\n",
    "print(times)\n"
   ]
  },
  {
   "cell_type": "markdown",
   "metadata": {},
   "source": [
    "### 4. Run the electiondata class to call the path to the EPB data by pressing shift-enter"
   ]
  },
  {
   "cell_type": "code",
   "execution_count": 18,
   "metadata": {},
   "outputs": [
    {
     "data": {
      "text/html": [
       "<div>\n",
       "<style scoped>\n",
       "    .dataframe tbody tr th:only-of-type {\n",
       "        vertical-align: middle;\n",
       "    }\n",
       "\n",
       "    .dataframe tbody tr th {\n",
       "        vertical-align: top;\n",
       "    }\n",
       "\n",
       "    .dataframe thead th {\n",
       "        text-align: right;\n",
       "    }\n",
       "</style>\n",
       "<table border=\"1\" class=\"dataframe\">\n",
       "  <thead>\n",
       "    <tr style=\"text-align: right;\">\n",
       "      <th></th>\n",
       "      <th>2866</th>\n",
       "      <th>2625</th>\n",
       "      <th>1609</th>\n",
       "      <th>2876</th>\n",
       "      <th>1601</th>\n",
       "      <th>1702</th>\n",
       "      <th>1704</th>\n",
       "      <th>3531</th>\n",
       "      <th>2826</th>\n",
       "      <th>726</th>\n",
       "      <th>...</th>\n",
       "      <th>2878</th>\n",
       "      <th>3605</th>\n",
       "      <th>618</th>\n",
       "      <th>2867</th>\n",
       "      <th>2105</th>\n",
       "      <th>304</th>\n",
       "      <th>704</th>\n",
       "      <th>2606</th>\n",
       "      <th>2610</th>\n",
       "      <th>1202</th>\n",
       "    </tr>\n",
       "  </thead>\n",
       "  <tbody>\n",
       "    <tr>\n",
       "      <th>1541487600</th>\n",
       "      <td>198</td>\n",
       "      <td>64</td>\n",
       "      <td>231</td>\n",
       "      <td>87</td>\n",
       "      <td>212</td>\n",
       "      <td>228</td>\n",
       "      <td>389</td>\n",
       "      <td>517</td>\n",
       "      <td>142</td>\n",
       "      <td>254</td>\n",
       "      <td>...</td>\n",
       "      <td>4</td>\n",
       "      <td>354</td>\n",
       "      <td>97</td>\n",
       "      <td>11</td>\n",
       "      <td>325</td>\n",
       "      <td>224</td>\n",
       "      <td>50</td>\n",
       "      <td>75</td>\n",
       "      <td>19</td>\n",
       "      <td>266</td>\n",
       "    </tr>\n",
       "    <tr>\n",
       "      <th>1541498400</th>\n",
       "      <td>127</td>\n",
       "      <td>46</td>\n",
       "      <td>169</td>\n",
       "      <td>73</td>\n",
       "      <td>157</td>\n",
       "      <td>120</td>\n",
       "      <td>235</td>\n",
       "      <td>308</td>\n",
       "      <td>126</td>\n",
       "      <td>153</td>\n",
       "      <td>...</td>\n",
       "      <td>13</td>\n",
       "      <td>299</td>\n",
       "      <td>72</td>\n",
       "      <td>15</td>\n",
       "      <td>189</td>\n",
       "      <td>131</td>\n",
       "      <td>46</td>\n",
       "      <td>55</td>\n",
       "      <td>14</td>\n",
       "      <td>168</td>\n",
       "    </tr>\n",
       "    <tr>\n",
       "      <th>1541505600</th>\n",
       "      <td>82</td>\n",
       "      <td>36</td>\n",
       "      <td>118</td>\n",
       "      <td>55</td>\n",
       "      <td>82</td>\n",
       "      <td>64</td>\n",
       "      <td>150</td>\n",
       "      <td>226</td>\n",
       "      <td>107</td>\n",
       "      <td>94</td>\n",
       "      <td>...</td>\n",
       "      <td>2</td>\n",
       "      <td>146</td>\n",
       "      <td>54</td>\n",
       "      <td>9</td>\n",
       "      <td>124</td>\n",
       "      <td>89</td>\n",
       "      <td>33</td>\n",
       "      <td>47</td>\n",
       "      <td>11</td>\n",
       "      <td>101</td>\n",
       "    </tr>\n",
       "    <tr>\n",
       "      <th>1541512800</th>\n",
       "      <td>58</td>\n",
       "      <td>32</td>\n",
       "      <td>91</td>\n",
       "      <td>52</td>\n",
       "      <td>102</td>\n",
       "      <td>78</td>\n",
       "      <td>180</td>\n",
       "      <td>192</td>\n",
       "      <td>99</td>\n",
       "      <td>102</td>\n",
       "      <td>...</td>\n",
       "      <td>4</td>\n",
       "      <td>170</td>\n",
       "      <td>42</td>\n",
       "      <td>9</td>\n",
       "      <td>141</td>\n",
       "      <td>87</td>\n",
       "      <td>35</td>\n",
       "      <td>46</td>\n",
       "      <td>18</td>\n",
       "      <td>124</td>\n",
       "    </tr>\n",
       "    <tr>\n",
       "      <th>1541520000</th>\n",
       "      <td>97</td>\n",
       "      <td>45</td>\n",
       "      <td>106</td>\n",
       "      <td>115</td>\n",
       "      <td>148</td>\n",
       "      <td>98</td>\n",
       "      <td>235</td>\n",
       "      <td>245</td>\n",
       "      <td>166</td>\n",
       "      <td>177</td>\n",
       "      <td>...</td>\n",
       "      <td>9</td>\n",
       "      <td>174</td>\n",
       "      <td>87</td>\n",
       "      <td>12</td>\n",
       "      <td>150</td>\n",
       "      <td>137</td>\n",
       "      <td>47</td>\n",
       "      <td>98</td>\n",
       "      <td>21</td>\n",
       "      <td>183</td>\n",
       "    </tr>\n",
       "  </tbody>\n",
       "</table>\n",
       "<p>5 rows × 420 columns</p>\n",
       "</div>"
      ],
      "text/plain": [
       "            2866  2625  1609  2876  1601  1702  1704  3531  2826  726  ...  \\\n",
       "1541487600   198    64   231    87   212   228   389   517   142  254  ...   \n",
       "1541498400   127    46   169    73   157   120   235   308   126  153  ...   \n",
       "1541505600    82    36   118    55    82    64   150   226   107   94  ...   \n",
       "1541512800    58    32    91    52   102    78   180   192    99  102  ...   \n",
       "1541520000    97    45   106   115   148    98   235   245   166  177  ...   \n",
       "\n",
       "            2878  3605  618  2867  2105  304  704  2606  2610  1202  \n",
       "1541487600     4   354   97    11   325  224   50    75    19   266  \n",
       "1541498400    13   299   72    15   189  131   46    55    14   168  \n",
       "1541505600     2   146   54     9   124   89   33    47    11   101  \n",
       "1541512800     4   170   42     9   141   87   35    46    18   124  \n",
       "1541520000     9   174   87    12   150  137   47    98    21   183  \n",
       "\n",
       "[5 rows x 420 columns]"
      ]
     },
     "execution_count": 18,
     "metadata": {},
     "output_type": "execute_result"
    }
   ],
   "source": [
    "class electiondata:\n",
    "    global path, df\n",
    "    path = './data/static_CI_counts.csv'\n",
    "    df = pd.read_csv(path,index_col = 0)\n",
    "df.head() \n",
    "    #print(prov_df)\n"
   ]
  },
  {
   "cell_type": "markdown",
   "metadata": {},
   "source": [
    "### 5. Merge data sets by running computedata class by pressing shift-enter"
   ]
  },
  {
   "cell_type": "code",
   "execution_count": 19,
   "metadata": {},
   "outputs": [],
   "source": [
    "class compoutedata: \n",
    "    global PN_lookup_dict, geo_lookup_dict\n",
    "    PN_lookup_dict = {}\n",
    "    geo_lookup_dict = {}\n",
    "    for OBJECTID in gdf.index:\n",
    "        PN_lookup_dict[OBJECTID] = {'NAME':gdf.iloc[OBJECTID]['NAME']}\n",
    "        geo_lookup_dict[OBJECTID] = {'geometry':gdf.iloc[OBJECTID]['geometry']}\n",
    "       "
   ]
  },
  {
   "cell_type": "markdown",
   "metadata": {},
   "source": [
    "### 6. Style the map by using cholorscheme class and pressing shift-enter\n",
    "    Code sets min and max values for color and opacity"
   ]
  },
  {
   "cell_type": "code",
   "execution_count": 20,
   "metadata": {},
   "outputs": [],
   "source": [
    "class cholorscheme:\n",
    "    global pct_list, styledata\n",
    "    style_df = df.set_index(times)\n",
    "    styledata = {}\n",
    "    for OBJECTID in gdf.index:\n",
    "        PN = PN_lookup_dict[OBJECTID]['NAME']\n",
    "        try:\n",
    "            pct_list = pd.Series(style_df[int(PN)]).to_list()\n",
    "        except KeyError:\n",
    "            pct_list = choices([10,20,40,50,60,70,80,90,100,110],k=6)\n",
    "            cap_vals = [1,1,1,1,1,1]\n",
    "        df = pd.DataFrame(\n",
    "            {'color': np.asarray(pct_list),\n",
    "             'opacity': np.asarray(cap_vals)},\n",
    "            index=times)\n",
    "        styledata[OBJECTID] = df\n",
    "        \n",
    "max_color, min_color, max_opacity, min_opacity = 0, 0, 0, 0\n",
    "\n",
    "for OBJECTID, data in styledata.items():\n",
    "    max_color = max(max_color, data['color'].max())\n",
    "    min_color = min(max_color, data['color'].min())\n",
    "    max_opacity = max(max_color, data['opacity'].max())\n",
    "    min_opacity = min(max_color, data['opacity'].min())\n",
    "#print(styledata)\n"
   ]
  },
  {
   "cell_type": "markdown",
   "metadata": {},
   "source": [
    "### Select linear color maping by choosing a color class by pressing shift-enter  \n",
    "Applies colormap to and opacity styledata.items. You can change color scheme by changing ('linear.grey_08.scale')\n",
    "\n",
    "Look for color scemes here:\n",
    "   __[color code](https://docs.juliaplots.org/latest/generated/colorschemes/)__\n",
    "    \n"
   ]
  },
  {
   "cell_type": "code",
   "execution_count": 21,
   "metadata": {},
   "outputs": [],
   "source": [
    " class color:\n",
    "        global colorscale\n",
    "        colorscale = linear.Greys_08.scale(min_color, max_color)\n",
    "\n",
    "for OBJECTID, data in styledata.items():\n",
    "    data['color'] = data['color'].apply(colorscale)\n",
    "    data['opacity'] = data['opacity']\n",
    "\n",
    "styledict = {\n",
    "    str(OBJECTID): data.to_dict(orient='index') for\n",
    "    OBJECTID, data in styledata.items()\n",
    "}"
   ]
  },
  {
   "cell_type": "markdown",
   "metadata": {},
   "source": [
    "### 7. Use the \"state_geo\" data, color settings, and time interval \"times\" to generate map in render class by pressing shift-enter"
   ]
  },
  {
   "cell_type": "code",
   "execution_count": 25,
   "metadata": {},
   "outputs": [],
   "source": [
    "class render:\n",
    "    pass\n",
    "\n",
    "m = folium.Map([41.8240, -71.4128],  zoom_start=10)\n",
    "g = TimeSliderChoropleth(\n",
    "        #shapepath,\n",
    "        gdf.to_json(),\n",
    "    #path,\n",
    "    #geodict,\n",
    "        styledict=styledict,\n",
    "        overlay = True,\n",
    "        name = 'state_geo',\n",
    "        control = False\n",
    "    ).add_to(m)\n"
   ]
  },
  {
   "cell_type": "markdown",
   "metadata": {},
   "source": [
    "### 8. Save the map to the data file in the repository by runing save class with shift-enter\n",
    "    Change the name by changing \"HTA_test0\" to the desired name of the map"
   ]
  },
  {
   "cell_type": "code",
   "execution_count": null,
   "metadata": {},
   "outputs": [],
   "source": [
    "class save: \n",
    "    m.save(outfile = \"./data/HTA_test0.html')"
   ]
  }
 ],
 "metadata": {
  "kernelspec": {
   "display_name": "Python 3",
   "language": "python",
   "name": "python3"
  },
  "language_info": {
   "codemirror_mode": {
    "name": "ipython",
    "version": 3
   },
   "file_extension": ".py",
   "mimetype": "text/x-python",
   "name": "python",
   "nbconvert_exporter": "python",
   "pygments_lexer": "ipython3",
   "version": "3.7.4"
  }
 },
 "nbformat": 4,
 "nbformat_minor": 2
}
